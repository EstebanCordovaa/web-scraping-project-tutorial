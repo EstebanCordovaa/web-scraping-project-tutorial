{
    "cells": [
        {
            "cell_type": "markdown",
            "metadata": {},
            "source": [
                "# Explora aquí\n",
                "\n",
                "Se recomienda utilizar este cuaderno con fines de exploración."
            ]
        },
        {
            "cell_type": "code",
            "execution_count": 60,
            "metadata": {},
            "outputs": [
                {
                    "name": "stdout",
                    "output_type": "stream",
                    "text": [
                        "Requirement already satisfied: pandas in /workspaces/web-scraping-project-tutorial/.venv/lib/python3.11/site-packages (2.2.3)\n",
                        "Requirement already satisfied: requests in /workspaces/web-scraping-project-tutorial/.venv/lib/python3.11/site-packages (2.32.3)\n",
                        "Requirement already satisfied: lxml in /workspaces/web-scraping-project-tutorial/.venv/lib/python3.11/site-packages (5.3.2)\n",
                        "Requirement already satisfied: numpy>=1.23.2 in /workspaces/web-scraping-project-tutorial/.venv/lib/python3.11/site-packages (from pandas) (2.2.4)\n",
                        "Requirement already satisfied: python-dateutil>=2.8.2 in /workspaces/web-scraping-project-tutorial/.venv/lib/python3.11/site-packages (from pandas) (2.9.0.post0)\n",
                        "Requirement already satisfied: pytz>=2020.1 in /workspaces/web-scraping-project-tutorial/.venv/lib/python3.11/site-packages (from pandas) (2025.2)\n",
                        "Requirement already satisfied: tzdata>=2022.7 in /workspaces/web-scraping-project-tutorial/.venv/lib/python3.11/site-packages (from pandas) (2025.2)\n",
                        "Requirement already satisfied: charset-normalizer<4,>=2 in /workspaces/web-scraping-project-tutorial/.venv/lib/python3.11/site-packages (from requests) (3.4.1)\n",
                        "Requirement already satisfied: idna<4,>=2.5 in /workspaces/web-scraping-project-tutorial/.venv/lib/python3.11/site-packages (from requests) (3.10)\n",
                        "Requirement already satisfied: urllib3<3,>=1.21.1 in /workspaces/web-scraping-project-tutorial/.venv/lib/python3.11/site-packages (from requests) (2.3.0)\n",
                        "Requirement already satisfied: certifi>=2017.4.17 in /workspaces/web-scraping-project-tutorial/.venv/lib/python3.11/site-packages (from requests) (2025.1.31)\n",
                        "Requirement already satisfied: six>=1.5 in /workspaces/web-scraping-project-tutorial/.venv/lib/python3.11/site-packages (from python-dateutil>=2.8.2->pandas) (1.17.0)\n",
                        "\n",
                        "\u001b[1m[\u001b[0m\u001b[34;49mnotice\u001b[0m\u001b[1;39;49m]\u001b[0m\u001b[39;49m A new release of pip is available: \u001b[0m\u001b[31;49m23.1.2\u001b[0m\u001b[39;49m -> \u001b[0m\u001b[32;49m25.0.1\u001b[0m\n",
                        "\u001b[1m[\u001b[0m\u001b[34;49mnotice\u001b[0m\u001b[1;39;49m]\u001b[0m\u001b[39;49m To update, run: \u001b[0m\u001b[32;49mpip install --upgrade pip\u001b[0m\n",
                        "Note: you may need to restart the kernel to use updated packages.\n"
                    ]
                }
            ],
            "source": [
                "pip install pandas requests lxml"
            ]
        },
        {
            "cell_type": "markdown",
            "metadata": {},
            "source": [
                "**LIBRERIAS**"
            ]
        },
        {
            "cell_type": "code",
            "execution_count": 61,
            "metadata": {},
            "outputs": [],
            "source": [
                "import requests\n",
                "from bs4 import BeautifulSoup\n",
                "import pandas as pd\n",
                "import sqlite3\n",
                "import matplotlib.pyplot as plt\n",
                "import seaborn as sns\n",
                "import io\n",
                "import sqlite3\n"
            ]
        },
        {
            "cell_type": "markdown",
            "metadata": {},
            "source": [
                "**OBTENCION DE DATOS**"
            ]
        },
        {
            "cell_type": "code",
            "execution_count": 62,
            "metadata": {},
            "outputs": [
                {
                    "name": "stdout",
                    "output_type": "stream",
                    "text": [
                        "Estado: 200\n"
                    ]
                }
            ],
            "source": [
                "url = \"https://en.wikipedia.org/wiki/List_of_most-streamed_songs_on_Spotify\"\n",
                "response = requests.get(url)\n",
                "\n",
                "print(\"Estado:\", response.status_code)"
            ]
        },
        {
            "cell_type": "markdown",
            "metadata": {},
            "source": [
                "**TABLAS TOTALES**"
            ]
        },
        {
            "cell_type": "code",
            "execution_count": null,
            "metadata": {},
            "outputs": [
                {
                    "name": "stdout",
                    "output_type": "stream",
                    "text": [
                        "Se encontraron 27 tablas.\n"
                    ]
                }
            ],
            "source": [
                "html = io.StringIO(response.text)\n",
                "tables = pd.read_html(html)\n",
                "\n",
                "print(f\"Se encontraron {len(tables)} tablas.\")"
            ]
        },
        {
            "cell_type": "markdown",
            "metadata": {},
            "source": [
                "**EXTRACCION DE MUESTRAS**"
            ]
        },
        {
            "cell_type": "code",
            "execution_count": null,
            "metadata": {},
            "outputs": [
                {
                    "data": {
                        "text/html": [
                            "<div>\n",
                            "<style scoped>\n",
                            "    .dataframe tbody tr th:only-of-type {\n",
                            "        vertical-align: middle;\n",
                            "    }\n",
                            "\n",
                            "    .dataframe tbody tr th {\n",
                            "        vertical-align: top;\n",
                            "    }\n",
                            "\n",
                            "    .dataframe thead th {\n",
                            "        text-align: right;\n",
                            "    }\n",
                            "</style>\n",
                            "<table border=\"1\" class=\"dataframe\">\n",
                            "  <thead>\n",
                            "    <tr style=\"text-align: right;\">\n",
                            "      <th></th>\n",
                            "      <th>Rank</th>\n",
                            "      <th>Song</th>\n",
                            "      <th>Artist(s)</th>\n",
                            "      <th>Streams (billions)</th>\n",
                            "      <th>Release date</th>\n",
                            "      <th>Ref.</th>\n",
                            "    </tr>\n",
                            "  </thead>\n",
                            "  <tbody>\n",
                            "    <tr>\n",
                            "      <th>0</th>\n",
                            "      <td>1</td>\n",
                            "      <td>\"Blinding Lights\"</td>\n",
                            "      <td>The Weeknd</td>\n",
                            "      <td>4.783</td>\n",
                            "      <td>29 November 2019</td>\n",
                            "      <td>[2]</td>\n",
                            "    </tr>\n",
                            "    <tr>\n",
                            "      <th>1</th>\n",
                            "      <td>2</td>\n",
                            "      <td>\"Shape of You\"</td>\n",
                            "      <td>Ed Sheeran</td>\n",
                            "      <td>4.302</td>\n",
                            "      <td>6 January 2017</td>\n",
                            "      <td>[3]</td>\n",
                            "    </tr>\n",
                            "    <tr>\n",
                            "      <th>2</th>\n",
                            "      <td>3</td>\n",
                            "      <td>\"Someone You Loved\"</td>\n",
                            "      <td>Lewis Capaldi</td>\n",
                            "      <td>3.859</td>\n",
                            "      <td>8 November 2018</td>\n",
                            "      <td>[4]</td>\n",
                            "    </tr>\n",
                            "    <tr>\n",
                            "      <th>3</th>\n",
                            "      <td>4</td>\n",
                            "      <td>\"Starboy\"</td>\n",
                            "      <td>The Weeknd and Daft Punk</td>\n",
                            "      <td>3.830</td>\n",
                            "      <td>21 September 2016</td>\n",
                            "      <td>[5]</td>\n",
                            "    </tr>\n",
                            "    <tr>\n",
                            "      <th>4</th>\n",
                            "      <td>5</td>\n",
                            "      <td>\"As It Was\"</td>\n",
                            "      <td>Harry Styles</td>\n",
                            "      <td>3.826</td>\n",
                            "      <td>1 April 2022</td>\n",
                            "      <td>[6]</td>\n",
                            "    </tr>\n",
                            "  </tbody>\n",
                            "</table>\n",
                            "</div>"
                        ],
                        "text/plain": [
                            "  Rank                 Song                 Artist(s) Streams (billions)  \\\n",
                            "0    1    \"Blinding Lights\"                The Weeknd              4.783   \n",
                            "1    2       \"Shape of You\"                Ed Sheeran              4.302   \n",
                            "2    3  \"Someone You Loved\"             Lewis Capaldi              3.859   \n",
                            "3    4            \"Starboy\"  The Weeknd and Daft Punk              3.830   \n",
                            "4    5          \"As It Was\"              Harry Styles              3.826   \n",
                            "\n",
                            "        Release date Ref.  \n",
                            "0   29 November 2019  [2]  \n",
                            "1     6 January 2017  [3]  \n",
                            "2    8 November 2018  [4]  \n",
                            "3  21 September 2016  [5]  \n",
                            "4       1 April 2022  [6]  "
                        ]
                    },
                    "execution_count": 64,
                    "metadata": {},
                    "output_type": "execute_result"
                }
            ],
            "source": [
                "df = tables[0]\n",
                "df.head()  "
            ]
        },
        {
            "cell_type": "markdown",
            "metadata": {},
            "source": [
                "**PROCESAMIENTO DE LOS DATOS**"
            ]
        },
        {
            "cell_type": "code",
            "execution_count": null,
            "metadata": {},
            "outputs": [
                {
                    "data": {
                        "text/html": [
                            "<div>\n",
                            "<style scoped>\n",
                            "    .dataframe tbody tr th:only-of-type {\n",
                            "        vertical-align: middle;\n",
                            "    }\n",
                            "\n",
                            "    .dataframe tbody tr th {\n",
                            "        vertical-align: top;\n",
                            "    }\n",
                            "\n",
                            "    .dataframe thead th {\n",
                            "        text-align: right;\n",
                            "    }\n",
                            "</style>\n",
                            "<table border=\"1\" class=\"dataframe\">\n",
                            "  <thead>\n",
                            "    <tr style=\"text-align: right;\">\n",
                            "      <th></th>\n",
                            "      <th>Rank</th>\n",
                            "      <th>Song</th>\n",
                            "      <th>Artist</th>\n",
                            "      <th>Streams (billions)</th>\n",
                            "      <th>Date released</th>\n",
                            "      <th>Reference</th>\n",
                            "    </tr>\n",
                            "  </thead>\n",
                            "  <tbody>\n",
                            "    <tr>\n",
                            "      <th>0</th>\n",
                            "      <td>1</td>\n",
                            "      <td>\"Blinding Lights\"</td>\n",
                            "      <td>The Weeknd</td>\n",
                            "      <td>4.783</td>\n",
                            "      <td>2019-11-29</td>\n",
                            "      <td>[2]</td>\n",
                            "    </tr>\n",
                            "    <tr>\n",
                            "      <th>1</th>\n",
                            "      <td>2</td>\n",
                            "      <td>\"Shape of You\"</td>\n",
                            "      <td>Ed Sheeran</td>\n",
                            "      <td>4.302</td>\n",
                            "      <td>2017-01-06</td>\n",
                            "      <td>[3]</td>\n",
                            "    </tr>\n",
                            "    <tr>\n",
                            "      <th>2</th>\n",
                            "      <td>3</td>\n",
                            "      <td>\"Someone You Loved\"</td>\n",
                            "      <td>Lewis Capaldi</td>\n",
                            "      <td>3.859</td>\n",
                            "      <td>2018-11-08</td>\n",
                            "      <td>[4]</td>\n",
                            "    </tr>\n",
                            "    <tr>\n",
                            "      <th>3</th>\n",
                            "      <td>4</td>\n",
                            "      <td>\"Starboy\"</td>\n",
                            "      <td>The Weeknd and Daft Punk</td>\n",
                            "      <td>3.830</td>\n",
                            "      <td>2016-09-21</td>\n",
                            "      <td>[5]</td>\n",
                            "    </tr>\n",
                            "    <tr>\n",
                            "      <th>4</th>\n",
                            "      <td>5</td>\n",
                            "      <td>\"As It Was\"</td>\n",
                            "      <td>Harry Styles</td>\n",
                            "      <td>3.826</td>\n",
                            "      <td>2022-04-01</td>\n",
                            "      <td>[6]</td>\n",
                            "    </tr>\n",
                            "    <tr>\n",
                            "      <th>...</th>\n",
                            "      <td>...</td>\n",
                            "      <td>...</td>\n",
                            "      <td>...</td>\n",
                            "      <td>...</td>\n",
                            "      <td>...</td>\n",
                            "      <td>...</td>\n",
                            "    </tr>\n",
                            "    <tr>\n",
                            "      <th>95</th>\n",
                            "      <td>96</td>\n",
                            "      <td>\"Havana\"</td>\n",
                            "      <td>Camila Cabello and Young Thug</td>\n",
                            "      <td>2.258</td>\n",
                            "      <td>2017-08-03</td>\n",
                            "      <td>[97]</td>\n",
                            "    </tr>\n",
                            "    <tr>\n",
                            "      <th>96</th>\n",
                            "      <td>97</td>\n",
                            "      <td>\"Someone Like You\"</td>\n",
                            "      <td>Adele</td>\n",
                            "      <td>2.255</td>\n",
                            "      <td>2011-01-24</td>\n",
                            "      <td>[98]</td>\n",
                            "    </tr>\n",
                            "    <tr>\n",
                            "      <th>97</th>\n",
                            "      <td>98</td>\n",
                            "      <td>\"Die With A Smile\"</td>\n",
                            "      <td>Lady Gaga and Bruno Mars</td>\n",
                            "      <td>2.248</td>\n",
                            "      <td>2024-08-16</td>\n",
                            "      <td>[99]</td>\n",
                            "    </tr>\n",
                            "    <tr>\n",
                            "      <th>98</th>\n",
                            "      <td>99</td>\n",
                            "      <td>\"Memories\"</td>\n",
                            "      <td>Maroon 5</td>\n",
                            "      <td>2.235</td>\n",
                            "      <td>2019-09-20</td>\n",
                            "      <td>[100]</td>\n",
                            "    </tr>\n",
                            "    <tr>\n",
                            "      <th>99</th>\n",
                            "      <td>100</td>\n",
                            "      <td>\"All the Stars\"</td>\n",
                            "      <td>Kendrick Lamar and SZA</td>\n",
                            "      <td>2.233</td>\n",
                            "      <td>2018-01-04</td>\n",
                            "      <td>[101]</td>\n",
                            "    </tr>\n",
                            "  </tbody>\n",
                            "</table>\n",
                            "<p>100 rows × 6 columns</p>\n",
                            "</div>"
                        ],
                        "text/plain": [
                            "   Rank                 Song                         Artist  \\\n",
                            "0     1    \"Blinding Lights\"                     The Weeknd   \n",
                            "1     2       \"Shape of You\"                     Ed Sheeran   \n",
                            "2     3  \"Someone You Loved\"                  Lewis Capaldi   \n",
                            "3     4            \"Starboy\"       The Weeknd and Daft Punk   \n",
                            "4     5          \"As It Was\"                   Harry Styles   \n",
                            "..  ...                  ...                            ...   \n",
                            "95   96             \"Havana\"  Camila Cabello and Young Thug   \n",
                            "96   97   \"Someone Like You\"                          Adele   \n",
                            "97   98   \"Die With A Smile\"       Lady Gaga and Bruno Mars   \n",
                            "98   99           \"Memories\"                       Maroon 5   \n",
                            "99  100      \"All the Stars\"         Kendrick Lamar and SZA   \n",
                            "\n",
                            "    Streams (billions) Date released Reference  \n",
                            "0                4.783    2019-11-29       [2]  \n",
                            "1                4.302    2017-01-06       [3]  \n",
                            "2                3.859    2018-11-08       [4]  \n",
                            "3                3.830    2016-09-21       [5]  \n",
                            "4                3.826    2022-04-01       [6]  \n",
                            "..                 ...           ...       ...  \n",
                            "95               2.258    2017-08-03      [97]  \n",
                            "96               2.255    2011-01-24      [98]  \n",
                            "97               2.248    2024-08-16      [99]  \n",
                            "98               2.235    2019-09-20     [100]  \n",
                            "99               2.233    2018-01-04     [101]  \n",
                            "\n",
                            "[100 rows x 6 columns]"
                        ]
                    },
                    "execution_count": 65,
                    "metadata": {},
                    "output_type": "execute_result"
                }
            ],
            "source": [
                "df.columns = [\"Rank\", \"Song\", \"Artist\", \"Streams (billions)\", \"Date released\", \"Reference\"]\n",
                "df[\"Song\"] = df[\"Song\"].str.replace(r\"\\[.*?\\]\", \"\", regex=True)\n",
                "df[\"Artist\"] = df[\"Artist\"].str.replace(r\"\\[.*?\\]\", \"\", regex=True)\n",
                "df = df[df[\"Streams (billions)\"].astype(str).str.contains(r\"^\\d+(?:\\.\\d+)?$\", na=False)].copy()\n",
                "df[\"Streams (billions)\"] = df[\"Streams (billions)\"].astype(float)\n",
                "df[\"Date released\"] = pd.to_datetime(df[\"Date released\"], errors=\"coerce\")\n",
                "\n",
                "df\n"
            ]
        },
        {
            "cell_type": "markdown",
            "metadata": {},
            "source": [
                "**SQLITE**"
            ]
        },
        {
            "cell_type": "code",
            "execution_count": null,
            "metadata": {},
            "outputs": [
                {
                    "name": "stdout",
                    "output_type": "stream",
                    "text": [
                        "Datos almacenados en la base de datos SQLite con éxito.\n"
                    ]
                }
            ],
            "source": [
                "conn = sqlite3.connect('spotify_songs.db')\n",
                "df.to_sql('songs', conn, if_exists='replace', index=False)\n",
                "conn.commit()\n",
                "conn.close()\n",
                "\n",
                "print(\"Datos almacenados en la base de datos SQLite con éxito.\")"
            ]
        },
        {
            "cell_type": "markdown",
            "metadata": {},
            "source": [
                "**VISUALIZACION DE DATOS**"
            ]
        },
        {
            "cell_type": "code",
            "execution_count": 72,
            "metadata": {},
            "outputs": [
                {
                    "data": {
                        "image/png": "[encoded data removed]",
                        "text/plain": [
                            "<Figure size 1000x600 with 1 Axes>"
                        ]
                    },
                    "metadata": {},
                    "output_type": "display_data"
                }
            ],
            "source": [
                "top_10 = df.nlargest(10, 'Streams (billions)')\n",
                "plt.figure(figsize=(10, 6))\n",
                "sns.barplot(x='Streams (billions)', y='Song', data=top_10)\n",
                "plt.title('Top 10 Songs')\n",
                "plt.xlabel('Reproductions')\n",
                "plt.ylabel('Canción')\n",
                "\n",
                "plt.show()\n"
            ]
        },
        {
            "cell_type": "code",
            "execution_count": null,
            "metadata": {},
            "outputs": [
                {
                    "data": {
                        "image/png": "[encoded data removed]",
                        "text/plain": [
                            "<Figure size 1000x500 with 1 Axes>"
                        ]
                    },
                    "metadata": {},
                    "output_type": "display_data"
                }
            ],
            "source": [
                "df[\"Year\"] = df[\"Date released\"].dt.year\n",
                "plt.figure(figsize=(10, 5))\n",
                "sns.countplot(data=df, x=\"Year\", order=sorted(df[\"Year\"].dropna().unique()))\n",
                "plt.title(\"Number of Songs in the Ranking by Release Year\")\n",
                "plt.xlabel(\"Year\")\n",
                "plt.ylabel(\"Count\")\n",
                "plt.xticks(rotation=45)\n",
                "plt.tight_layout()\n",
                "\n",
                "plt.show()"
            ]
        }
    ],
    "metadata": {
        "kernelspec": {
            "display_name": ".venv",
            "language": "python",
            "name": "python3"
        },
        "language_info": {
            "codemirror_mode": {
                "name": "ipython",
                "version": 3
            },
            "file_extension": ".py",
            "mimetype": "text/x-python",
            "name": "python",
            "nbconvert_exporter": "python",
            "pygments_lexer": "ipython3",
            "version": "3.11.4"
        },
        "orig_nbformat": 4
    },
    "nbformat": 4,
    "nbformat_minor": 2
}
